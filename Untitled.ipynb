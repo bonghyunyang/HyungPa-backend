{
 "cells": [
  {
   "cell_type": "code",
   "execution_count": 1,
   "metadata": {},
   "outputs": [],
   "source": [
    "import os\n",
    "os.environ.setdefault('DJANGO_SETTINGS_MODULE', 'brother.settings') \n",
    "os.environ['DJANGO_ALLOW_ASYNC_UNSAFE'] = 'true'\n",
    "import django\n",
    "django.setup()\n",
    "from product.models import *\n",
    "from post.models import *\n",
    "from user.models import *\n",
    "from review.models import *"
   ]
  },
  {
   "cell_type": "code",
   "execution_count": 2,
   "metadata": {
    "scrolled": false
   },
   "outputs": [
    {
     "data": {
      "text/plain": [
       "<QuerySet []>"
      ]
     },
     "execution_count": 2,
     "metadata": {},
     "output_type": "execute_result"
    }
   ],
   "source": [
    "Review.objects.all()"
   ]
  },
  {
   "cell_type": "code",
   "execution_count": 3,
   "metadata": {
    "scrolled": false
   },
   "outputs": [
    {
     "data": {
      "text/plain": [
       "[<Review: Review object (None)>,\n",
       " <Review: Review object (None)>,\n",
       " <Review: Review object (None)>,\n",
       " <Review: Review object (None)>,\n",
       " <Review: Review object (None)>,\n",
       " <Review: Review object (None)>,\n",
       " <Review: Review object (None)>,\n",
       " <Review: Review object (None)>,\n",
       " <Review: Review object (None)>,\n",
       " <Review: Review object (None)>,\n",
       " <Review: Review object (None)>,\n",
       " <Review: Review object (None)>,\n",
       " <Review: Review object (None)>,\n",
       " <Review: Review object (None)>,\n",
       " <Review: Review object (None)>,\n",
       " <Review: Review object (None)>,\n",
       " <Review: Review object (None)>,\n",
       " <Review: Review object (None)>,\n",
       " <Review: Review object (None)>,\n",
       " <Review: Review object (None)>,\n",
       " <Review: Review object (None)>,\n",
       " <Review: Review object (None)>,\n",
       " <Review: Review object (None)>,\n",
       " <Review: Review object (None)>,\n",
       " <Review: Review object (None)>,\n",
       " <Review: Review object (None)>,\n",
       " <Review: Review object (None)>]"
      ]
     },
     "execution_count": 3,
     "metadata": {},
     "output_type": "execute_result"
    }
   ],
   "source": [
    "import csv\n",
    "\n",
    "file_loca = \"/home/soohyung/바탕화면/unpa_crwaling/\"\n",
    "\n",
    "bulk_list = []\n",
    "with open(file_loca + 'review_crawling.csv') as hand:\n",
    "    reader = csv.DictReader(hand)\n",
    "    for row in reader:\n",
    "        bulk_list.append(Review(\n",
    "            description = row['description'],\n",
    "            like_number = row['like_number'],\n",
    "            view_number = row['view_number'],\n",
    "            review_image = row['first_image'],\n",
    "            review_comment  = row['first_comment'],\n",
    "            ))\n",
    "        \n",
    "Review.objects.bulk_create(bulk_list)"
   ]
  },
  {
   "cell_type": "code",
   "execution_count": 110,
   "metadata": {
    "scrolled": false
   },
   "outputs": [
    {
     "data": {
      "text/plain": [
       "[<Post: Post object (None)>,\n",
       " <Post: Post object (None)>,\n",
       " <Post: Post object (None)>,\n",
       " <Post: Post object (None)>,\n",
       " <Post: Post object (None)>,\n",
       " <Post: Post object (None)>,\n",
       " <Post: Post object (None)>,\n",
       " <Post: Post object (None)>,\n",
       " <Post: Post object (None)>,\n",
       " <Post: Post object (None)>,\n",
       " <Post: Post object (None)>,\n",
       " <Post: Post object (None)>,\n",
       " <Post: Post object (None)>,\n",
       " <Post: Post object (None)>,\n",
       " <Post: Post object (None)>,\n",
       " <Post: Post object (None)>,\n",
       " <Post: Post object (None)>,\n",
       " <Post: Post object (None)>,\n",
       " <Post: Post object (None)>,\n",
       " <Post: Post object (None)>,\n",
       " <Post: Post object (None)>,\n",
       " <Post: Post object (None)>,\n",
       " <Post: Post object (None)>,\n",
       " <Post: Post object (None)>,\n",
       " <Post: Post object (None)>,\n",
       " <Post: Post object (None)>,\n",
       " <Post: Post object (None)>,\n",
       " <Post: Post object (None)>,\n",
       " <Post: Post object (None)>,\n",
       " <Post: Post object (None)>,\n",
       " <Post: Post object (None)>,\n",
       " <Post: Post object (None)>,\n",
       " <Post: Post object (None)>,\n",
       " <Post: Post object (None)>]"
      ]
     },
     "execution_count": 110,
     "metadata": {},
     "output_type": "execute_result"
    }
   ],
   "source": [
    "import csv\n",
    "\n",
    "file_loca = \"/home/soohyung/바탕화면/unpa_crwaling/\"\n",
    "\n",
    "bulk_list = []\n",
    "with open(file_loca + 'post_crawling.csv') as hand:\n",
    "    reader = csv.DictReader(hand)\n",
    "    for row in reader:\n",
    "        bulk_list.append(Post(\n",
    "            title = row['title'],\n",
    "            description = row['description'],\n",
    "            like_number = row['like_number'],\n",
    "            view_number = row['view_count'],\n",
    "            first_image = row['first_image'],\n",
    "            first_text  = row['first_text']\n",
    "            ))\n",
    "        \n",
    "Post.objects.bulk_create(bulk_list)"
   ]
  },
  {
   "cell_type": "code",
   "execution_count": 48,
   "metadata": {},
   "outputs": [],
   "source": [
    "bulk_list = []\n",
    "\n",
    "with open(file_loca + 'first_categories.csv') as hand:\n",
    "    reader = csv.reader(hand)\n",
    "    next(reader, None)\n",
    "    \n",
    "    for row in reader:\n",
    "        bulk_list.append(FirstCategory(\n",
    "            name = row[0],\n",
    "            firstcategory_id = row[1])\n",
    "        \n",
    "# FirstCategory.objects.bulk_create(bulk_list)"
   ]
  },
  {
   "cell_type": "code",
   "execution_count": 49,
   "metadata": {
    "scrolled": true
   },
   "outputs": [
    {
     "data": {
      "text/plain": [
       "'베이스 메이크업'"
      ]
     },
     "execution_count": 49,
     "metadata": {},
     "output_type": "execute_result"
    }
   ],
   "source": [
    "bulk_list[0].name"
   ]
  },
  {
   "cell_type": "code",
   "execution_count": 50,
   "metadata": {
    "scrolled": false
   },
   "outputs": [
    {
     "data": {
      "text/plain": [
       "[<FirstCategory: FirstCategory object (None)>,\n",
       " <FirstCategory: FirstCategory object (None)>,\n",
       " <FirstCategory: FirstCategory object (None)>,\n",
       " <FirstCategory: FirstCategory object (None)>,\n",
       " <FirstCategory: FirstCategory object (None)>,\n",
       " <FirstCategory: FirstCategory object (None)>,\n",
       " <FirstCategory: FirstCategory object (None)>,\n",
       " <FirstCategory: FirstCategory object (None)>,\n",
       " <FirstCategory: FirstCategory object (None)>,\n",
       " <FirstCategory: FirstCategory object (None)>]"
      ]
     },
     "execution_count": 50,
     "metadata": {},
     "output_type": "execute_result"
    }
   ],
   "source": []
  },
  {
   "cell_type": "code",
   "execution_count": 36,
   "metadata": {},
   "outputs": [
    {
     "data": {
      "text/plain": [
       "<QuerySet []>"
      ]
     },
     "execution_count": 36,
     "metadata": {},
     "output_type": "execute_result"
    }
   ],
   "source": [
    "FirstCategory.objects.values()"
   ]
  },
  {
   "cell_type": "code",
   "execution_count": 57,
   "metadata": {},
   "outputs": [
    {
     "data": {
      "text/plain": [
       "<SkinTone: SkinTone object (3)>"
      ]
     },
     "execution_count": 57,
     "metadata": {},
     "output_type": "execute_result"
    }
   ],
   "source": [
    "SkinTone.objects.create(name = \"13호\")\n",
    "SkinTone.objects.create(name = \"21호\")\n",
    "SkinTone.objects.create(name = \"23호\")"
   ]
  },
  {
   "cell_type": "code",
   "execution_count": 59,
   "metadata": {},
   "outputs": [
    {
     "data": {
      "text/plain": [
       "<SkinType: SkinType object (1)>"
      ]
     },
     "execution_count": 59,
     "metadata": {},
     "output_type": "execute_result"
    }
   ],
   "source": [
    "SkinType.objects.create(name = \"중성\")"
   ]
  },
  {
   "cell_type": "code",
   "execution_count": 10,
   "metadata": {},
   "outputs": [
    {
     "data": {
      "text/plain": [
       "<User: User object (1)>"
      ]
     },
     "execution_count": 10,
     "metadata": {},
     "output_type": "execute_result"
    }
   ],
   "source": [
    "User.objects.create(email=\"soo\",password=\"1234\",birth_date=\"1991-01-21\",phone_number=\"010-4134-5596\",activity_index=0)"
   ]
  },
  {
   "cell_type": "code",
   "execution_count": null,
   "metadata": {},
   "outputs": [],
   "source": []
  }
 ],
 "metadata": {
  "kernelspec": {
   "display_name": "Python 3",
   "language": "python",
   "name": "python3"
  },
  "language_info": {
   "codemirror_mode": {
    "name": "ipython",
    "version": 3
   },
   "file_extension": ".py",
   "mimetype": "text/x-python",
   "name": "python",
   "nbconvert_exporter": "python",
   "pygments_lexer": "ipython3",
   "version": "3.7.7"
  }
 },
 "nbformat": 4,
 "nbformat_minor": 4
}
